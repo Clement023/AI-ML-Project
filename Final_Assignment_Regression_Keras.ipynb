{
 "cells": [
  {
   "cell_type": "markdown",
   "id": "b7db02ee-fb4e-4b72-bda9-580dcaa5b20a",
   "metadata": {},
   "source": [
    "<h2>Building a Regression Model in Keras</h2>"
   ]
  },
  {
   "cell_type": "code",
   "execution_count": 22,
   "id": "86e7abb2-9d5b-4542-a771-89982d330960",
   "metadata": {
    "tags": []
   },
   "outputs": [],
   "source": [
    "import pandas as pd\n",
    "import numpy as np\n",
    "\n",
    "import sklearn\n",
    "from sklearn.model_selection import train_test_split\n",
    "\n",
    "from keras.models import Sequential\n",
    "from keras.layers import Dense"
   ]
  },
  {
   "cell_type": "markdown",
   "id": "d2364670-ddfa-4781-9756-3cd8095468e3",
   "metadata": {},
   "source": [
    "## Download and read data into a pandas dataframe."
   ]
  },
  {
   "cell_type": "code",
   "execution_count": 23,
   "id": "5b155fbb-b33d-40ae-bbfa-39fd9fabfb6b",
   "metadata": {
    "tags": []
   },
   "outputs": [
    {
     "data": {
      "text/html": [
       "<div>\n",
       "<style scoped>\n",
       "    .dataframe tbody tr th:only-of-type {\n",
       "        vertical-align: middle;\n",
       "    }\n",
       "\n",
       "    .dataframe tbody tr th {\n",
       "        vertical-align: top;\n",
       "    }\n",
       "\n",
       "    .dataframe thead th {\n",
       "        text-align: right;\n",
       "    }\n",
       "</style>\n",
       "<table border=\"1\" class=\"dataframe\">\n",
       "  <thead>\n",
       "    <tr style=\"text-align: right;\">\n",
       "      <th></th>\n",
       "      <th>Cement</th>\n",
       "      <th>Blast Furnace Slag</th>\n",
       "      <th>Fly Ash</th>\n",
       "      <th>Water</th>\n",
       "      <th>Superplasticizer</th>\n",
       "      <th>Coarse Aggregate</th>\n",
       "      <th>Fine Aggregate</th>\n",
       "      <th>Age</th>\n",
       "      <th>Strength</th>\n",
       "    </tr>\n",
       "  </thead>\n",
       "  <tbody>\n",
       "    <tr>\n",
       "      <th>0</th>\n",
       "      <td>540.0</td>\n",
       "      <td>0.0</td>\n",
       "      <td>0.0</td>\n",
       "      <td>162.0</td>\n",
       "      <td>2.5</td>\n",
       "      <td>1040.0</td>\n",
       "      <td>676.0</td>\n",
       "      <td>28</td>\n",
       "      <td>79.99</td>\n",
       "    </tr>\n",
       "    <tr>\n",
       "      <th>1</th>\n",
       "      <td>540.0</td>\n",
       "      <td>0.0</td>\n",
       "      <td>0.0</td>\n",
       "      <td>162.0</td>\n",
       "      <td>2.5</td>\n",
       "      <td>1055.0</td>\n",
       "      <td>676.0</td>\n",
       "      <td>28</td>\n",
       "      <td>61.89</td>\n",
       "    </tr>\n",
       "    <tr>\n",
       "      <th>2</th>\n",
       "      <td>332.5</td>\n",
       "      <td>142.5</td>\n",
       "      <td>0.0</td>\n",
       "      <td>228.0</td>\n",
       "      <td>0.0</td>\n",
       "      <td>932.0</td>\n",
       "      <td>594.0</td>\n",
       "      <td>270</td>\n",
       "      <td>40.27</td>\n",
       "    </tr>\n",
       "    <tr>\n",
       "      <th>3</th>\n",
       "      <td>332.5</td>\n",
       "      <td>142.5</td>\n",
       "      <td>0.0</td>\n",
       "      <td>228.0</td>\n",
       "      <td>0.0</td>\n",
       "      <td>932.0</td>\n",
       "      <td>594.0</td>\n",
       "      <td>365</td>\n",
       "      <td>41.05</td>\n",
       "    </tr>\n",
       "    <tr>\n",
       "      <th>4</th>\n",
       "      <td>198.6</td>\n",
       "      <td>132.4</td>\n",
       "      <td>0.0</td>\n",
       "      <td>192.0</td>\n",
       "      <td>0.0</td>\n",
       "      <td>978.4</td>\n",
       "      <td>825.5</td>\n",
       "      <td>360</td>\n",
       "      <td>44.30</td>\n",
       "    </tr>\n",
       "  </tbody>\n",
       "</table>\n",
       "</div>"
      ],
      "text/plain": [
       "   Cement  Blast Furnace Slag  Fly Ash  Water  Superplasticizer  \\\n",
       "0   540.0                 0.0      0.0  162.0               2.5   \n",
       "1   540.0                 0.0      0.0  162.0               2.5   \n",
       "2   332.5               142.5      0.0  228.0               0.0   \n",
       "3   332.5               142.5      0.0  228.0               0.0   \n",
       "4   198.6               132.4      0.0  192.0               0.0   \n",
       "\n",
       "   Coarse Aggregate  Fine Aggregate  Age  Strength  \n",
       "0            1040.0           676.0   28     79.99  \n",
       "1            1055.0           676.0   28     61.89  \n",
       "2             932.0           594.0  270     40.27  \n",
       "3             932.0           594.0  365     41.05  \n",
       "4             978.4           825.5  360     44.30  "
      ]
     },
     "execution_count": 23,
     "metadata": {},
     "output_type": "execute_result"
    }
   ],
   "source": [
    "concrete_data = pd.read_csv('https://s3-api.us-geo.objectstorage.softlayer.net/cf-courses-data/CognitiveClass/DL0101EN/labs/data/concrete_data.csv')\n",
    "concrete_data.head()"
   ]
  },
  {
   "cell_type": "code",
   "execution_count": null,
   "id": "9abaccbc-3e49-46c5-8a4d-e62b0e3a832c",
   "metadata": {},
   "outputs": [],
   "source": []
  },
  {
   "cell_type": "markdown",
   "id": "d40d85a1-c8b5-4e16-a559-a050a0e5fc7f",
   "metadata": {},
   "source": [
    "# $PART A:$ $BASELINE$ $MODEL$"
   ]
  },
  {
   "cell_type": "markdown",
   "id": "a8f73e0c-b496-4dd0-b225-5a08545209a2",
   "metadata": {
    "tags": []
   },
   "source": [
    "### Seperate the Data into Predictors and Target"
   ]
  },
  {
   "cell_type": "code",
   "execution_count": 24,
   "id": "3b10c02d-96a5-4de9-bb56-e8606d6f7230",
   "metadata": {
    "tags": []
   },
   "outputs": [],
   "source": [
    "predictors = concrete_data.drop(columns=['Strength'])\n",
    "target = concrete_data['Strength']"
   ]
  },
  {
   "cell_type": "markdown",
   "id": "10f57738-d464-4055-875f-d03ff65dfe75",
   "metadata": {},
   "source": [
    "### Setting up the number of columns"
   ]
  },
  {
   "cell_type": "code",
   "execution_count": 25,
   "id": "e4e81b8c-927e-442f-8c98-6a8c4bde3908",
   "metadata": {
    "tags": []
   },
   "outputs": [],
   "source": [
    "n_cols = predictors.shape[1]"
   ]
  },
  {
   "cell_type": "markdown",
   "id": "48294e7f-6ff0-4ef8-ba41-1fbda1ff964f",
   "metadata": {},
   "source": [
    "### Setting up the Neural Network model with one hidden layer and Adam optimizer"
   ]
  },
  {
   "cell_type": "code",
   "execution_count": 26,
   "id": "6860d895-6726-4b5a-8dbc-749ae72a2eb5",
   "metadata": {
    "tags": []
   },
   "outputs": [],
   "source": [
    "def regression_model():\n",
    "    # creating model\n",
    "    model = Sequential()\n",
    "    \n",
    "    # one hidden layer\n",
    "    model.add(Dense(10, activation='relu', input_shape=(n_cols,)))\n",
    "    model.add(Dense(1))\n",
    "    \n",
    "    # compiling the model\n",
    "    model.compile(optimizer='adam', loss='mean_squared_error')\n",
    "    return model"
   ]
  },
  {
   "cell_type": "markdown",
   "id": "8d02d791-a3a4-49f3-9d07-cd38e21833ef",
   "metadata": {},
   "source": [
    "### Repeating the training and evaluation 50 times"
   ]
  },
  {
   "cell_type": "code",
   "execution_count": 27,
   "id": "3fe4ac5d-069d-4e64-8696-d7cbf63ecd14",
   "metadata": {
    "tags": []
   },
   "outputs": [],
   "source": [
    "n_repeats = 50\n",
    "mse_list = []\n",
    "\n",
    "for i in range(n_repeats):\n",
    "    X_train, X_test, y_train, y_test = train_test_split(predictors, target, test_size= 0.3, random_state= 42)\n",
    "    \n",
    "    model = regression_model()\n",
    "    \n",
    "    # fitting the model and predicting\n",
    "    model.fit(X_train, y_train, epochs=50, verbose=0)\n",
    "    y_p = model.predict(X_test)\n",
    "    \n",
    "    mean_squared_error = sklearn.metrics.mean_squared_error(y_test, y_p)\n",
    "    mse_list.append(mean_squared_error)\n",
    "\n",
    "mean_mse = np.mean(mse_list)\n",
    "std_mse= np.std(mse_list)\n",
    "\n"
   ]
  },
  {
   "cell_type": "markdown",
   "id": "b3f47bca-7a29-4266-a4db-afebece6efab",
   "metadata": {},
   "source": [
    "### Reporting the mean and standard deviation of Mean Squared Errors"
   ]
  },
  {
   "cell_type": "code",
   "execution_count": 28,
   "id": "5416427d-cbb1-418a-9c76-304fe515c29c",
   "metadata": {
    "tags": []
   },
   "outputs": [
    {
     "data": {
      "text/html": [
       "<div>\n",
       "<style scoped>\n",
       "    .dataframe tbody tr th:only-of-type {\n",
       "        vertical-align: middle;\n",
       "    }\n",
       "\n",
       "    .dataframe tbody tr th {\n",
       "        vertical-align: top;\n",
       "    }\n",
       "\n",
       "    .dataframe thead th {\n",
       "        text-align: right;\n",
       "    }\n",
       "</style>\n",
       "<table border=\"1\" class=\"dataframe\">\n",
       "  <thead>\n",
       "    <tr style=\"text-align: right;\">\n",
       "      <th></th>\n",
       "      <th>Metrics</th>\n",
       "      <th>Result</th>\n",
       "    </tr>\n",
       "  </thead>\n",
       "  <tbody>\n",
       "    <tr>\n",
       "      <th>0</th>\n",
       "      <td>MEAN_MSE</td>\n",
       "      <td>285.589836</td>\n",
       "    </tr>\n",
       "    <tr>\n",
       "      <th>1</th>\n",
       "      <td>STD_MSE</td>\n",
       "      <td>293.512829</td>\n",
       "    </tr>\n",
       "  </tbody>\n",
       "</table>\n",
       "</div>"
      ],
      "text/plain": [
       "    Metrics      Result\n",
       "0  MEAN_MSE  285.589836\n",
       "1   STD_MSE  293.512829"
      ]
     },
     "execution_count": 28,
     "metadata": {},
     "output_type": "execute_result"
    }
   ],
   "source": [
    "Report = {\"Metrics\":[\"MEAN_MSE\",\"STD_MSE\"],\"Result\": \n",
    "    [mean_mse,std_mse]}\n",
    "pd.DataFrame(Report)"
   ]
  },
  {
   "cell_type": "markdown",
   "id": "ab1c307a-7c0a-43a6-92e5-699ad664d3e0",
   "metadata": {
    "tags": []
   },
   "source": [
    "# $PART B:$ $Normalize$ $the$ $data $"
   ]
  },
  {
   "cell_type": "markdown",
   "id": "57c85ab9-9e52-400b-bf59-ec593c9adc3d",
   "metadata": {},
   "source": [
    "### Normalising the predictors"
   ]
  },
  {
   "cell_type": "code",
   "execution_count": 29,
   "id": "d46b4843-80f4-4d22-af9c-d3a3a9d350df",
   "metadata": {
    "tags": []
   },
   "outputs": [
    {
     "data": {
      "text/html": [
       "<div>\n",
       "<style scoped>\n",
       "    .dataframe tbody tr th:only-of-type {\n",
       "        vertical-align: middle;\n",
       "    }\n",
       "\n",
       "    .dataframe tbody tr th {\n",
       "        vertical-align: top;\n",
       "    }\n",
       "\n",
       "    .dataframe thead th {\n",
       "        text-align: right;\n",
       "    }\n",
       "</style>\n",
       "<table border=\"1\" class=\"dataframe\">\n",
       "  <thead>\n",
       "    <tr style=\"text-align: right;\">\n",
       "      <th></th>\n",
       "      <th>Cement</th>\n",
       "      <th>Blast Furnace Slag</th>\n",
       "      <th>Fly Ash</th>\n",
       "      <th>Water</th>\n",
       "      <th>Superplasticizer</th>\n",
       "      <th>Coarse Aggregate</th>\n",
       "      <th>Fine Aggregate</th>\n",
       "      <th>Age</th>\n",
       "    </tr>\n",
       "  </thead>\n",
       "  <tbody>\n",
       "    <tr>\n",
       "      <th>0</th>\n",
       "      <td>2.476712</td>\n",
       "      <td>-0.856472</td>\n",
       "      <td>-0.846733</td>\n",
       "      <td>-0.916319</td>\n",
       "      <td>-0.620147</td>\n",
       "      <td>0.862735</td>\n",
       "      <td>-1.217079</td>\n",
       "      <td>-0.279597</td>\n",
       "    </tr>\n",
       "    <tr>\n",
       "      <th>1</th>\n",
       "      <td>2.476712</td>\n",
       "      <td>-0.856472</td>\n",
       "      <td>-0.846733</td>\n",
       "      <td>-0.916319</td>\n",
       "      <td>-0.620147</td>\n",
       "      <td>1.055651</td>\n",
       "      <td>-1.217079</td>\n",
       "      <td>-0.279597</td>\n",
       "    </tr>\n",
       "    <tr>\n",
       "      <th>2</th>\n",
       "      <td>0.491187</td>\n",
       "      <td>0.795140</td>\n",
       "      <td>-0.846733</td>\n",
       "      <td>2.174405</td>\n",
       "      <td>-1.038638</td>\n",
       "      <td>-0.526262</td>\n",
       "      <td>-2.239829</td>\n",
       "      <td>3.551340</td>\n",
       "    </tr>\n",
       "    <tr>\n",
       "      <th>3</th>\n",
       "      <td>0.491187</td>\n",
       "      <td>0.795140</td>\n",
       "      <td>-0.846733</td>\n",
       "      <td>2.174405</td>\n",
       "      <td>-1.038638</td>\n",
       "      <td>-0.526262</td>\n",
       "      <td>-2.239829</td>\n",
       "      <td>5.055221</td>\n",
       "    </tr>\n",
       "    <tr>\n",
       "      <th>4</th>\n",
       "      <td>-0.790075</td>\n",
       "      <td>0.678079</td>\n",
       "      <td>-0.846733</td>\n",
       "      <td>0.488555</td>\n",
       "      <td>-1.038638</td>\n",
       "      <td>0.070492</td>\n",
       "      <td>0.647569</td>\n",
       "      <td>4.976069</td>\n",
       "    </tr>\n",
       "  </tbody>\n",
       "</table>\n",
       "</div>"
      ],
      "text/plain": [
       "     Cement  Blast Furnace Slag   Fly Ash     Water  Superplasticizer  \\\n",
       "0  2.476712           -0.856472 -0.846733 -0.916319         -0.620147   \n",
       "1  2.476712           -0.856472 -0.846733 -0.916319         -0.620147   \n",
       "2  0.491187            0.795140 -0.846733  2.174405         -1.038638   \n",
       "3  0.491187            0.795140 -0.846733  2.174405         -1.038638   \n",
       "4 -0.790075            0.678079 -0.846733  0.488555         -1.038638   \n",
       "\n",
       "   Coarse Aggregate  Fine Aggregate       Age  \n",
       "0          0.862735       -1.217079 -0.279597  \n",
       "1          1.055651       -1.217079 -0.279597  \n",
       "2         -0.526262       -2.239829  3.551340  \n",
       "3         -0.526262       -2.239829  5.055221  \n",
       "4          0.070492        0.647569  4.976069  "
      ]
     },
     "execution_count": 29,
     "metadata": {},
     "output_type": "execute_result"
    }
   ],
   "source": [
    "predictors_norm = (predictors - predictors.mean()) / predictors.std()\n",
    "predictors_norm.head()"
   ]
  },
  {
   "cell_type": "markdown",
   "id": "ca2068c3-db54-4c6d-8638-06f8a0b33d84",
   "metadata": {},
   "source": [
    "### Setting up the number of predictors"
   ]
  },
  {
   "cell_type": "code",
   "execution_count": 30,
   "id": "828da841-f930-4cea-ae7a-180a07c91d10",
   "metadata": {
    "tags": []
   },
   "outputs": [],
   "source": [
    "n_cols2 = predictors_norm.shape[1]"
   ]
  },
  {
   "cell_type": "markdown",
   "id": "0173511e-01cf-4d87-9761-9ecd8cd09ae0",
   "metadata": {},
   "source": [
    "### Setting up the Neural Network model with one hidden layer and Adam optimizer"
   ]
  },
  {
   "cell_type": "code",
   "execution_count": 31,
   "id": "9bc21568-bc42-4d2b-9cd7-7074c3b9fc30",
   "metadata": {
    "tags": []
   },
   "outputs": [],
   "source": [
    "def regression_model():\n",
    "    # creating model\n",
    "    model = Sequential()\n",
    "    \n",
    "    # one hidden layer\n",
    "    model.add(Dense(10, activation='relu', input_shape=(n_cols2,)))\n",
    "    model.add(Dense(1))\n",
    "    \n",
    "    # compiling the model\n",
    "    model.compile(optimizer='adam', loss='mean_squared_error')\n",
    "    return model"
   ]
  },
  {
   "cell_type": "markdown",
   "id": "dd6d9560-e30c-4e2a-b251-75d6ffd03f41",
   "metadata": {},
   "source": [
    "### Repeating the training and evaluation 50 times"
   ]
  },
  {
   "cell_type": "code",
   "execution_count": 32,
   "id": "91bfe1c9-3255-4ea9-8573-47b535a8b546",
   "metadata": {
    "tags": []
   },
   "outputs": [],
   "source": [
    "n_repeats = 50\n",
    "mse_list_norm = []\n",
    "\n",
    "for i in range(n_repeats):\n",
    "    X_train, X_test, y_train, y_test = train_test_split(predictors_norm, target, test_size= 0.3, random_state= 42)\n",
    "    \n",
    "    model = regression_model()\n",
    "    \n",
    "    # fitting the model and predicting\n",
    "    model.fit(X_train, y_train, epochs=50, verbose=0)\n",
    "    y_p = model.predict(X_test)\n",
    "    \n",
    "    mean_squared_error_n = sklearn.metrics.mean_squared_error(y_test, y_p)\n",
    "    mse_list_norm.append(mean_squared_error_n)\n",
    "\n",
    "mean_mse_n = np.mean(mse_list_norm)\n",
    "std_mse_n= np.std(mse_list_norm)\n",
    "\n",
    "\n"
   ]
  },
  {
   "cell_type": "markdown",
   "id": "2a2977ec-bd9e-42b7-8b75-ea8fd1338038",
   "metadata": {},
   "source": [
    "### Reporting the mean and standard deviation of Mean Squared Errors"
   ]
  },
  {
   "cell_type": "code",
   "execution_count": 33,
   "id": "3e6eec50-7253-4427-a2eb-dccbd15e97ae",
   "metadata": {
    "tags": []
   },
   "outputs": [
    {
     "data": {
      "text/html": [
       "<div>\n",
       "<style scoped>\n",
       "    .dataframe tbody tr th:only-of-type {\n",
       "        vertical-align: middle;\n",
       "    }\n",
       "\n",
       "    .dataframe tbody tr th {\n",
       "        vertical-align: top;\n",
       "    }\n",
       "\n",
       "    .dataframe thead th {\n",
       "        text-align: right;\n",
       "    }\n",
       "</style>\n",
       "<table border=\"1\" class=\"dataframe\">\n",
       "  <thead>\n",
       "    <tr style=\"text-align: right;\">\n",
       "      <th></th>\n",
       "      <th>Metrics</th>\n",
       "      <th>Result</th>\n",
       "    </tr>\n",
       "  </thead>\n",
       "  <tbody>\n",
       "    <tr>\n",
       "      <th>0</th>\n",
       "      <td>MEAN_MSE_normalised)</td>\n",
       "      <td>368.316776</td>\n",
       "    </tr>\n",
       "    <tr>\n",
       "      <th>1</th>\n",
       "      <td>STD_MSE_normalised</td>\n",
       "      <td>90.742066</td>\n",
       "    </tr>\n",
       "  </tbody>\n",
       "</table>\n",
       "</div>"
      ],
      "text/plain": [
       "                Metrics      Result\n",
       "0  MEAN_MSE_normalised)  368.316776\n",
       "1    STD_MSE_normalised   90.742066"
      ]
     },
     "execution_count": 33,
     "metadata": {},
     "output_type": "execute_result"
    }
   ],
   "source": [
    "Report = {\"Metrics\":[\"MEAN_MSE_normalised)\",\"STD_MSE_normalised\"],\"Result\": \n",
    "    [mean_mse_n,std_mse_n]}\n",
    "pd.DataFrame(Report)"
   ]
  },
  {
   "cell_type": "markdown",
   "id": "d38f7dcc-4237-442e-a770-9d792376cb7e",
   "metadata": {},
   "source": [
    "### Comparison of the Mean of MSE"
   ]
  },
  {
   "cell_type": "code",
   "execution_count": 34,
   "id": "0057d321-7b71-459f-8b44-7dba6c5c324e",
   "metadata": {
    "tags": []
   },
   "outputs": [
    {
     "name": "stdout",
     "output_type": "stream",
     "text": [
      "Original Data: 285.5898358078848\n",
      "Normalized Data: 368.31677643308984\n"
     ]
    }
   ],
   "source": [
    "print(f'Original Data: {mean_mse}')\n",
    "print(f'Normalized Data: {mean_mse_n}')"
   ]
  },
  {
   "cell_type": "code",
   "execution_count": null,
   "id": "0efbfaf4-b3e0-4c9d-a1ad-cdb7f2733b10",
   "metadata": {},
   "outputs": [],
   "source": []
  },
  {
   "cell_type": "markdown",
   "id": "8658f729-d215-4a19-b988-600d436f08f9",
   "metadata": {
    "tags": []
   },
   "source": [
    "# $PART C:$ $Increate$ $the$ $number$ $of$ $epochs$"
   ]
  },
  {
   "cell_type": "markdown",
   "id": "b210be6c-6d65-4347-9f98-8ef439c729d9",
   "metadata": {},
   "source": [
    "### Repeating Part B but with 100 epochs"
   ]
  },
  {
   "cell_type": "code",
   "execution_count": 35,
   "id": "5dd63f10-b33f-4b96-8e41-d67a4ce3a9ed",
   "metadata": {},
   "outputs": [],
   "source": [
    "n_repeats = 50\n",
    "mse_list_norm_100Ep = []\n",
    "\n",
    "for i in range(n_repeats):\n",
    "    X_train, X_test, y_train, y_test = train_test_split(predictors_norm, target, test_size= 0.3, random_state= 42)\n",
    "    \n",
    "    model = regression_model()\n",
    "    \n",
    "    # fitting the model and predicting\n",
    "    model.fit(X_train, y_train, epochs=100, verbose=0)\n",
    "    y_p = model.predict(X_test)\n",
    "    \n",
    "    mean_squared_error_n_100EP = sklearn.metrics.mean_squared_error(y_test, y_p)\n",
    "    mse_list_norm_100Ep.append(mean_squared_error_n_100EP)\n",
    "\n",
    "mean_mse_n_100Ep = np.mean(mse_list_norm_100Ep)\n",
    "std_mse_n_100Ep= np.std(mse_list_norm_100Ep)\n",
    "\n"
   ]
  },
  {
   "cell_type": "markdown",
   "id": "1852fc3f-ddc0-4ce6-8ad8-7b676f97864f",
   "metadata": {},
   "source": [
    "### Reporting the mean and standard deviation of Mean Squared Errors"
   ]
  },
  {
   "cell_type": "code",
   "execution_count": 36,
   "id": "2bf464cf-a000-49f6-b0d7-e7468a63eee0",
   "metadata": {},
   "outputs": [
    {
     "data": {
      "text/html": [
       "<div>\n",
       "<style scoped>\n",
       "    .dataframe tbody tr th:only-of-type {\n",
       "        vertical-align: middle;\n",
       "    }\n",
       "\n",
       "    .dataframe tbody tr th {\n",
       "        vertical-align: top;\n",
       "    }\n",
       "\n",
       "    .dataframe thead th {\n",
       "        text-align: right;\n",
       "    }\n",
       "</style>\n",
       "<table border=\"1\" class=\"dataframe\">\n",
       "  <thead>\n",
       "    <tr style=\"text-align: right;\">\n",
       "      <th></th>\n",
       "      <th>Metrics</th>\n",
       "      <th>Result</th>\n",
       "    </tr>\n",
       "  </thead>\n",
       "  <tbody>\n",
       "    <tr>\n",
       "      <th>0</th>\n",
       "      <td>MEAN_MSE_normalised_100Ep</td>\n",
       "      <td>159.763715</td>\n",
       "    </tr>\n",
       "    <tr>\n",
       "      <th>1</th>\n",
       "      <td>STD_MSE_normalised_100Ep</td>\n",
       "      <td>25.198426</td>\n",
       "    </tr>\n",
       "  </tbody>\n",
       "</table>\n",
       "</div>"
      ],
      "text/plain": [
       "                     Metrics      Result\n",
       "0  MEAN_MSE_normalised_100Ep  159.763715\n",
       "1   STD_MSE_normalised_100Ep   25.198426"
      ]
     },
     "execution_count": 36,
     "metadata": {},
     "output_type": "execute_result"
    }
   ],
   "source": [
    "Report = {\"Metrics\":[\"MEAN_MSE_normalised_100Ep\",\"STD_MSE_normalised_100Ep\"],\"Result\": \n",
    "    [mean_mse_n_100Ep,std_mse_n_100Ep]}\n",
    "pd.DataFrame(Report)"
   ]
  },
  {
   "cell_type": "markdown",
   "id": "4eaca28b-6272-41bd-b7aa-a539b4123f9c",
   "metadata": {},
   "source": [
    "### Comparison of the Mean of MSE"
   ]
  },
  {
   "cell_type": "code",
   "execution_count": 37,
   "id": "eea7092e-8a2d-4386-a398-cd1a01363527",
   "metadata": {},
   "outputs": [
    {
     "name": "stdout",
     "output_type": "stream",
     "text": [
      "Normalized Data, 50 Epochs: 368.31677643308984\n",
      "Normalized Data, 100 Epochs: 159.76371530318423\n"
     ]
    }
   ],
   "source": [
    "print(f'Normalized Data, 50 Epochs: {mean_mse_n}')\n",
    "print(f'Normalized Data, 100 Epochs: {mean_mse_n_100Ep}')"
   ]
  },
  {
   "cell_type": "markdown",
   "id": "7e418d1f-7a3c-41ca-b3c8-05ec488f0bc8",
   "metadata": {},
   "source": [
    "# $Part D:$ $Increase$ $the$ $number$ $of$ $hidden$ $layers$ "
   ]
  },
  {
   "cell_type": "markdown",
   "id": "0cd3b4e1-bf12-4c28-ba75-14ac3dd74270",
   "metadata": {},
   "source": [
    "### Setting up the Neural Network model with three hidden layers, Adam optimizer, and ReLu"
   ]
  },
  {
   "cell_type": "code",
   "execution_count": 38,
   "id": "b59e5df2-aaa7-4649-8994-04c4c4b8c7ae",
   "metadata": {
    "tags": []
   },
   "outputs": [],
   "source": [
    "def regression_model():\n",
    "    # creating model\n",
    "    model = Sequential()\n",
    "    \n",
    "    # three hidden layer\n",
    "    model.add(Dense(10, activation='relu', input_shape=(n_cols2,)))\n",
    "    model.add(Dense(10, activation='relu'))\n",
    "    model.add(Dense(10, activation='relu'))\n",
    "    model.add(Dense(1))\n",
    "    \n",
    "    # compiling the model\n",
    "    model.compile(optimizer='adam', loss='mean_squared_error')\n",
    "    return model"
   ]
  },
  {
   "cell_type": "markdown",
   "id": "795e0c8f-164b-4eac-ad21-d7aa2ce59112",
   "metadata": {},
   "source": [
    "### Repeating Training and Evaluation 50 Times with Normalized Data and the Three Hidden Layers"
   ]
  },
  {
   "cell_type": "code",
   "execution_count": 39,
   "id": "b9736e55-5d5a-49d6-bf83-d656ddf4c308",
   "metadata": {
    "tags": []
   },
   "outputs": [],
   "source": [
    "n_repeats = 50\n",
    "mse_list_norm_3Layers = []\n",
    "\n",
    "for i in range(n_repeats):\n",
    "    X_train, X_test, y_train, y_test = train_test_split(predictors_norm, target, test_size= 0.3, random_state= 42)\n",
    "    \n",
    "    model = regression_model()\n",
    "    \n",
    "    # fitting the model and predicting\n",
    "    model.fit(X_train, y_train, epochs=50, verbose=0)\n",
    "    y_p = model.predict(X_test)\n",
    "    \n",
    "    mean_squared_error_n_3Layers = sklearn.metrics.mean_squared_error(y_test, y_p)\n",
    "    mse_list_norm_3Layers.append(mean_squared_error_n_3Layers)\n",
    "\n",
    "mean_mse_n_3L = np.mean(mse_list_norm_3Layers)\n",
    "std_mse_n_3L= np.std(mse_list_norm_3Layers)\n",
    "\n"
   ]
  },
  {
   "cell_type": "markdown",
   "id": "63ad2c64-917a-47b7-b9b9-26181eec024a",
   "metadata": {},
   "source": [
    "### Reporting the mean and standard deviation of Mean Squared Errors for 3 layers"
   ]
  },
  {
   "cell_type": "code",
   "execution_count": 40,
   "id": "6dcb867b-eb18-4991-b8a0-5e5ebf12e82f",
   "metadata": {
    "tags": []
   },
   "outputs": [
    {
     "data": {
      "text/html": [
       "<div>\n",
       "<style scoped>\n",
       "    .dataframe tbody tr th:only-of-type {\n",
       "        vertical-align: middle;\n",
       "    }\n",
       "\n",
       "    .dataframe tbody tr th {\n",
       "        vertical-align: top;\n",
       "    }\n",
       "\n",
       "    .dataframe thead th {\n",
       "        text-align: right;\n",
       "    }\n",
       "</style>\n",
       "<table border=\"1\" class=\"dataframe\">\n",
       "  <thead>\n",
       "    <tr style=\"text-align: right;\">\n",
       "      <th></th>\n",
       "      <th>Metrics</th>\n",
       "      <th>Result</th>\n",
       "    </tr>\n",
       "  </thead>\n",
       "  <tbody>\n",
       "    <tr>\n",
       "      <th>0</th>\n",
       "      <td>MEAN_MSE_normalised_3Layers</td>\n",
       "      <td>121.763647</td>\n",
       "    </tr>\n",
       "    <tr>\n",
       "      <th>1</th>\n",
       "      <td>STD_MSE_normalised_3Layers</td>\n",
       "      <td>14.609522</td>\n",
       "    </tr>\n",
       "  </tbody>\n",
       "</table>\n",
       "</div>"
      ],
      "text/plain": [
       "                       Metrics      Result\n",
       "0  MEAN_MSE_normalised_3Layers  121.763647\n",
       "1   STD_MSE_normalised_3Layers   14.609522"
      ]
     },
     "execution_count": 40,
     "metadata": {},
     "output_type": "execute_result"
    }
   ],
   "source": [
    "Report = {\"Metrics\":[\"MEAN_MSE_normalised_3Layers\",\"STD_MSE_normalised_3Layers\"],\"Result\": \n",
    "    [mean_mse_n_3L,std_mse_n_3L]}\n",
    "pd.DataFrame(Report)"
   ]
  },
  {
   "cell_type": "markdown",
   "id": "544b0d27-08cd-406d-a685-d9cad186a279",
   "metadata": {},
   "source": [
    "### Comparison of the Mean of MSE"
   ]
  },
  {
   "cell_type": "code",
   "execution_count": 42,
   "id": "3b639b87-7a6f-4eba-8daa-6bb8bc3cb93c",
   "metadata": {
    "tags": []
   },
   "outputs": [
    {
     "name": "stdout",
     "output_type": "stream",
     "text": [
      "Normalized Data, 1 Hidden Layer: 368.31677643308984\n",
      "Normalized Data, 3 Hidden Layers: 121.76364731259828\n"
     ]
    }
   ],
   "source": [
    "print(f'Normalized Data, 1 Hidden Layer: {mean_mse_n}')\n",
    "print(f'Normalized Data, 3 Hidden Layers: {mean_mse_n_3L}')"
   ]
  },
  {
   "cell_type": "code",
   "execution_count": null,
   "id": "1c667c52-0c88-4474-a3ab-6a1ff61b9b18",
   "metadata": {},
   "outputs": [],
   "source": []
  }
 ],
 "metadata": {
  "kernelspec": {
   "display_name": "Python 3 (ipykernel)",
   "language": "python",
   "name": "python3"
  },
  "language_info": {
   "codemirror_mode": {
    "name": "ipython",
    "version": 3
   },
   "file_extension": ".py",
   "mimetype": "text/x-python",
   "name": "python",
   "nbconvert_exporter": "python",
   "pygments_lexer": "ipython3",
   "version": "3.11.7"
  }
 },
 "nbformat": 4,
 "nbformat_minor": 5
}
